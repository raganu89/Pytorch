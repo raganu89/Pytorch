{
  "nbformat": 4,
  "nbformat_minor": 0,
  "metadata": {
    "colab": {
      "provenance": [],
      "authorship_tag": "ABX9TyP1wn655U7ToOtrXNe4wbIw",
      "include_colab_link": true
    },
    "kernelspec": {
      "name": "python3",
      "display_name": "Python 3"
    },
    "language_info": {
      "name": "python"
    }
  },
  "cells": [
    {
      "cell_type": "markdown",
      "metadata": {
        "id": "view-in-github",
        "colab_type": "text"
      },
      "source": [
        "<a href=\"https://colab.research.google.com/github/raganu89/Pytorch/blob/main/4_nn_module.ipynb\" target=\"_parent\"><img src=\"https://colab.research.google.com/assets/colab-badge.svg\" alt=\"Open In Colab\"/></a>"
      ]
    },
    {
      "cell_type": "code",
      "execution_count": 5,
      "metadata": {
        "id": "fFM-_uLKP1i3"
      },
      "outputs": [],
      "source": [
        "import torch\n",
        "import torch.nn as nn\n",
        "\n",
        "#Model Class\n",
        "\n",
        "class Model(nn.Module):   #inherit parent class  nn.Model\n",
        "\n",
        "  def __init__(self,num_features):\n",
        "\n",
        "    super().__init__()              # inherit constructor of Base class via super keyword\n",
        "    self.linear= nn.Linear(num_features,1)     # create layer in which 1 is output and input will be num_features\n",
        "    self.sigmoid = nn.Sigmoid()\n",
        "\n",
        "  def forward(self,features):\n",
        "\n",
        "    out = self.linear(features)\n",
        "    out = self.sigmoid(out)\n",
        "    return out\n",
        "\n"
      ]
    },
    {
      "cell_type": "code",
      "source": [
        "#create dataset\n",
        "features = torch.rand(10,5)\n",
        "#create model\n",
        "model = Model(features.shape[1])\n",
        "\n",
        "#call forward function\n",
        "model(features)\n"
      ],
      "metadata": {
        "colab": {
          "base_uri": "https://localhost:8080/"
        },
        "id": "cCsfFWI0VVS7",
        "outputId": "04490981-a18f-4850-af91-b53ef4935e03"
      },
      "execution_count": 6,
      "outputs": [
        {
          "output_type": "execute_result",
          "data": {
            "text/plain": [
              "tensor([[0.5935],\n",
              "        [0.6022],\n",
              "        [0.5656],\n",
              "        [0.5938],\n",
              "        [0.5581],\n",
              "        [0.5650],\n",
              "        [0.5054],\n",
              "        [0.6646],\n",
              "        [0.6818],\n",
              "        [0.5895]], grad_fn=<SigmoidBackward0>)"
            ]
          },
          "metadata": {},
          "execution_count": 6
        }
      ]
    }
  ]
}