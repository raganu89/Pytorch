{
  "nbformat": 4,
  "nbformat_minor": 0,
  "metadata": {
    "colab": {
      "provenance": [],
      "authorship_tag": "ABX9TyOFE8S2bb8LA64d/ibsK95s",
      "include_colab_link": true
    },
    "kernelspec": {
      "name": "python3",
      "display_name": "Python 3"
    },
    "language_info": {
      "name": "python"
    }
  },
  "cells": [
    {
      "cell_type": "markdown",
      "metadata": {
        "id": "view-in-github",
        "colab_type": "text"
      },
      "source": [
        "<a href=\"https://colab.research.google.com/github/raganu89/Pytorch/blob/main/5_nn_with_hidden_layer.ipynb\" target=\"_parent\"><img src=\"https://colab.research.google.com/assets/colab-badge.svg\" alt=\"Open In Colab\"/></a>"
      ]
    },
    {
      "cell_type": "code",
      "execution_count": 15,
      "metadata": {
        "id": "IbM12A-bW5bc"
      },
      "outputs": [],
      "source": [
        "import torch\n",
        "import torch.nn as nn\n",
        "\n",
        "class Model(nn.Module):\n",
        "\n",
        "  def __init__(self,num_features):\n",
        "    super().__init__()\n",
        "    self.linear1 = nn.Linear(num_features,3)   # in first layer(input layer) we will send num_features as input and get 3 output\n",
        "    self.relu = nn.ReLU()    # Relu activation function\n",
        "    self.linear2 = nn.Linear(3,1)   # hidden layer\n",
        "    self.sigmoid = nn.Sigmoid()     # sigmoid activation function\n",
        "\n",
        "  def forward(self,features):\n",
        "       out = self.linear1(features)\n",
        "       out = self.relu(out)\n",
        "       out = self.linear2(out)\n",
        "       out = self.sigmoid(out)\n",
        "\n",
        "       return out\n",
        "\n"
      ]
    },
    {
      "cell_type": "code",
      "source": [
        "#create dataset\n",
        "features = torch.rand(10,5)\n",
        "#create model\n",
        "model = Model(features.shape[1])\n",
        "\n",
        "#call forward function\n",
        "model(features)"
      ],
      "metadata": {
        "colab": {
          "base_uri": "https://localhost:8080/"
        },
        "id": "3JY1jiKiYmXS",
        "outputId": "f01eca7f-76a4-4a1d-d6a2-475b65c6543f"
      },
      "execution_count": 16,
      "outputs": [
        {
          "output_type": "execute_result",
          "data": {
            "text/plain": [
              "tensor([[0.4221],\n",
              "        [0.3739],\n",
              "        [0.4113],\n",
              "        [0.4521],\n",
              "        [0.4035],\n",
              "        [0.4289],\n",
              "        [0.4276],\n",
              "        [0.3915],\n",
              "        [0.3938],\n",
              "        [0.4136]], grad_fn=<SigmoidBackward0>)"
            ]
          },
          "metadata": {},
          "execution_count": 16
        }
      ]
    }
  ]
}